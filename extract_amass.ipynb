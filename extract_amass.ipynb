{
 "cells": [
  {
   "cell_type": "code",
   "execution_count": 1,
   "metadata": {},
   "outputs": [
    {
     "name": "stdout",
     "output_type": "stream",
     "text": [
      "Found 23 .tar.bz2 files:\n",
      " - TotalCapture.tar.bz2\n",
      "Extracted: TotalCapture.tar.bz2 → ./data/AMASS/amass_202203\n",
      " - CMU (1).tar.bz2\n",
      "Extracted: CMU (1).tar.bz2 → ./data/AMASS/amass_202203\n",
      " - SOMA.tar.bz2\n",
      "Extracted: SOMA.tar.bz2 → ./data/AMASS/amass_202203\n",
      " - GRAB.tar.bz2\n",
      "Extracted: GRAB.tar.bz2 → ./data/AMASS/amass_202203\n",
      " - BMLmovi.tar.bz2\n",
      "Extracted: BMLmovi.tar.bz2 → ./data/AMASS/amass_202203\n",
      " - HumanEva.tar.bz2\n",
      "Extracted: HumanEva.tar.bz2 → ./data/AMASS/amass_202203\n",
      " - MoSh.tar.bz2\n",
      "Extracted: MoSh.tar.bz2 → ./data/AMASS/amass_202203\n",
      " - HUMAN4D.tar.bz2\n",
      "Extracted: HUMAN4D.tar.bz2 → ./data/AMASS/amass_202203\n",
      " - EyesJapanDataset.tar.bz2\n",
      "Extracted: EyesJapanDataset.tar.bz2 → ./data/AMASS/amass_202203\n",
      " - EKUT.tar.bz2\n",
      "Extracted: EKUT.tar.bz2 → ./data/AMASS/amass_202203\n",
      " - BMLrub (1).tar.bz2\n",
      "Extracted: BMLrub (1).tar.bz2 → ./data/AMASS/amass_202203\n",
      " - HDM05.tar.bz2\n",
      "Extracted: HDM05.tar.bz2 → ./data/AMASS/amass_202203\n",
      " - DanceDB.tar.bz2\n",
      "Extracted: DanceDB.tar.bz2 → ./data/AMASS/amass_202203\n",
      " - CNRS.tar.bz2\n",
      "Extracted: CNRS.tar.bz2 → ./data/AMASS/amass_202203\n",
      " - BMLhandball.tar.bz2\n",
      "Extracted: BMLhandball.tar.bz2 → ./data/AMASS/amass_202203\n",
      " - KIT.tar.bz2\n",
      "Extracted: KIT.tar.bz2 → ./data/AMASS/amass_202203\n",
      " - SFU.tar.bz2\n",
      "Extracted: SFU.tar.bz2 → ./data/AMASS/amass_202203\n",
      " - PosePrior.tar.bz2\n",
      "Extracted: PosePrior.tar.bz2 → ./data/AMASS/amass_202203\n",
      " - DFaust.tar.bz2\n",
      "Extracted: DFaust.tar.bz2 → ./data/AMASS/amass_202203\n",
      " - Transitions.tar.bz2\n",
      "Extracted: Transitions.tar.bz2 → ./data/AMASS/amass_202203\n",
      " - SSM.tar.bz2\n",
      "Extracted: SSM.tar.bz2 → ./data/AMASS/amass_202203\n",
      " - ACCAD.tar.bz2\n",
      "Extracted: ACCAD.tar.bz2 → ./data/AMASS/amass_202203\n",
      " - TCDHands.tar.bz2\n",
      "Extracted: TCDHands.tar.bz2 → ./data/AMASS/amass_202203\n",
      "\n",
      "Extraction complete.\n"
     ]
    }
   ],
   "source": [
    "import os\n",
    "import tarfile\n",
    "\n",
    "def extract_tar_bz2_files(source_folder, output_folder):\n",
    "    # Create output directory if it doesn't exist\n",
    "    os.makedirs(output_folder, exist_ok=True)\n",
    "\n",
    "    # List all .tar.bz2 files in the source folder\n",
    "    tar_bz2_files = [f for f in os.listdir(source_folder) if f.endswith('.tar.bz2')]\n",
    "\n",
    "    print(f\"Found {len(tar_bz2_files)} .tar.bz2 files:\")\n",
    "    for file in tar_bz2_files:\n",
    "        print(f\" - {file}\")\n",
    "\n",
    "        file_path = os.path.join(source_folder, file)\n",
    "        # Extract the file\n",
    "        with tarfile.open(file_path, 'r:bz2') as tar:\n",
    "            tar.extractall(path=output_folder)\n",
    "            print(f\"Extracted: {file} → {output_folder}\")\n",
    "\n",
    "    print(\"\\nExtraction complete.\")\n",
    "\n",
    "\n",
    "if __name__ == \"__main__\":\n",
    "    source_folder = './data/AMASS/'\n",
    "    output_folder = './data/AMASS/amass_202203'\n",
    "    extract_tar_bz2_files(source_folder, output_folder)"
   ]
  }
 ],
 "metadata": {
  "kernelspec": {
   "display_name": "ldm",
   "language": "python",
   "name": "python3"
  },
  "language_info": {
   "codemirror_mode": {
    "name": "ipython",
    "version": 3
   },
   "file_extension": ".py",
   "mimetype": "text/x-python",
   "name": "python",
   "nbconvert_exporter": "python",
   "pygments_lexer": "ipython3",
   "version": "3.10.14"
  }
 },
 "nbformat": 4,
 "nbformat_minor": 2
}
