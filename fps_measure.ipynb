{
 "cells": [
  {
   "cell_type": "code",
   "execution_count": 1,
   "metadata": {},
   "outputs": [],
   "source": [
    "from lib.utils.learning import load_backbone\n",
    "from lib.utils.tools import get_config\n",
    "import os\n",
    "import subprocess\n",
    "from lib.model.model_action import ActionNet\n",
    "\n",
    "def getActionNet(yaml):\n",
    "    args = get_config(yaml)\n",
    "    model_backbone = load_backbone(args)\n",
    "    # if args.finetune:\n",
    "    #     chk_filename = os.path.join(opts.pretrained, opts.selection)\n",
    "    #     print('Loading backbone', chk_filename)\n",
    "    #     checkpoint = torch.load(chk_filename, map_location=lambda storage, loc: storage)['model_pos']\n",
    "    #     model_backbone = load_pretrained_weights(model_backbone, checkpoint)\n",
    "    # if args.partial_train:\n",
    "    #     model_backbone = partial_train_layers(model_backbone, args.partial_train)\n",
    "    return   ActionNet(backbone=model_backbone, dim_rep=args.dim_rep, num_classes=args.action_classes, dropout_ratio=args.dropout_ratio, version=args.model_version, hidden_dim=args.hidden_dim, num_joints=args.num_joints)\n",
    "\n",
    "\n",
    "def get_gpu_memory_usage():\n",
    "    \"\"\"Returns GPU memory usage in GB (first device only).\"\"\"\n",
    "    result = subprocess.check_output(\n",
    "        ['nvidia-smi', '--query-gpu=memory.used', '--format=csv,nounits,noheader']\n",
    "    )\n",
    "    memory_used = int(result.decode().split('\\n')[0])\n",
    "    return memory_used / 1024  # Convert MB to GB"
   ]
  },
  {
   "cell_type": "code",
   "execution_count": 4,
   "metadata": {},
   "outputs": [
    {
     "name": "stdout",
     "output_type": "stream",
     "text": [
      "True\n",
      "FPS: 37.91\n"
     ]
    }
   ],
   "source": [
    "import torch\n",
    "import time\n",
    "\n",
    "# Example model and input size\n",
    "model = getActionNet('./configs/action/MB_ft_NTU60_xsub_lite_temp_comp.yaml').cuda()\n",
    "model.eval()\n",
    "\n",
    "input_tensor = torch.randn(1, 2, 243, 17, 3).cuda()\n",
    "\n",
    "# Warm-up (to avoid initial overhead)\n",
    "with torch.no_grad():\n",
    "    for _ in range(10):\n",
    "        model(input_tensor)\n",
    "\n",
    "# Measure FPS\n",
    "num_iters = 100\n",
    "torch.cuda.synchronize()\n",
    "start_time = time.time()\n",
    "\n",
    "with torch.no_grad():\n",
    "    for _ in range(num_iters):\n",
    "        model(input_tensor)\n",
    "\n",
    "torch.cuda.synchronize()\n",
    "end_time = time.time()\n",
    "\n",
    "elapsed_time = end_time - start_time\n",
    "fps = num_iters / elapsed_time\n",
    "print(f\"FPS: {fps:.2f}\")"
   ]
  },
  {
   "cell_type": "code",
   "execution_count": 5,
   "metadata": {},
   "outputs": [
    {
     "name": "stdout",
     "output_type": "stream",
     "text": [
      "False\n",
      "FPS: 18.73\n"
     ]
    }
   ],
   "source": [
    "import torch\n",
    "import time\n",
    "\n",
    "# Example model and input size\n",
    "model = getActionNet('./configs/action/MB_ft_NTU60_xsub_lite.yaml').cuda()\n",
    "model.eval()\n",
    "\n",
    "input_tensor = torch.randn(1, 2, 243, 17, 3).cuda()\n",
    "\n",
    "# Warm-up (to avoid initial overhead)\n",
    "with torch.no_grad():\n",
    "    for _ in range(10):\n",
    "        model(input_tensor)\n",
    "\n",
    "# Measure FPS\n",
    "num_iters = 100\n",
    "torch.cuda.synchronize()\n",
    "start_time = time.time()\n",
    "\n",
    "with torch.no_grad():\n",
    "    for _ in range(num_iters):\n",
    "        model(input_tensor)\n",
    "\n",
    "torch.cuda.synchronize()\n",
    "end_time = time.time()\n",
    "\n",
    "elapsed_time = end_time - start_time\n",
    "fps = num_iters / elapsed_time\n",
    "print(f\"FPS: {fps:.2f}\")"
   ]
  },
  {
   "cell_type": "code",
   "execution_count": 5,
   "metadata": {},
   "outputs": [
    {
     "name": "stdout",
     "output_type": "stream",
     "text": [
      "FPS: 10.58\n"
     ]
    }
   ],
   "source": [
    "import torch\n",
    "import time\n",
    "\n",
    "# Example model and input size\n",
    "model = getActionNet('./configs/action/MB_ft_NTU60_xsub.yaml').cuda()\n",
    "model.eval()\n",
    "\n",
    "input_tensor = torch.randn(1, 2, 243, 17, 3).cuda()\n",
    "\n",
    "# Warm-up (to avoid initial overhead)\n",
    "with torch.no_grad():\n",
    "    for _ in range(10):\n",
    "        model(input_tensor)\n",
    "\n",
    "# Measure FPS\n",
    "num_iters = 1000\n",
    "torch.cuda.synchronize()\n",
    "start_time = time.time()\n",
    "\n",
    "with torch.no_grad():\n",
    "    for _ in range(num_iters):\n",
    "        model(input_tensor)\n",
    "\n",
    "torch.cuda.synchronize()\n",
    "end_time = time.time()\n",
    "\n",
    "elapsed_time = end_time - start_time\n",
    "fps = num_iters / elapsed_time\n",
    "print(f\"FPS: {fps:.2f}\")"
   ]
  }
 ],
 "metadata": {
  "kernelspec": {
   "display_name": "ldm",
   "language": "python",
   "name": "python3"
  },
  "language_info": {
   "codemirror_mode": {
    "name": "ipython",
    "version": 3
   },
   "file_extension": ".py",
   "mimetype": "text/x-python",
   "name": "python",
   "nbconvert_exporter": "python",
   "pygments_lexer": "ipython3",
   "version": "3.10.14"
  }
 },
 "nbformat": 4,
 "nbformat_minor": 2
}
